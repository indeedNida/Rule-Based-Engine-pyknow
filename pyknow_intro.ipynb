from pyknow import KnowledgeEngine, Fact, AND

# Define facts (User inputs)
class Income(Fact):
    pass

class ChildcareExpenses(Fact):
    pass

class UnionExpenses(Fact):
    pass

class RRSPContributions(Fact):
    pass

class PensionAdjustment(Fact):
    pass

# Define the TaxEngine
class TaxEngine(KnowledgeEngine):

    # Rule for calculating tax
    @Rule(AND(Income(value=P(lambda x: x <= 50000)),
              ChildcareExpenses(value=P(lambda x: x <= 5000)),
              UnionExpenses(value=P(lambda x: x <= 1000)),
              RRSPContributions(value=P(lambda x: x <= 10000)),
              PensionAdjustment(value=P(lambda x: x <= 5000))))
    def low_income_tax(self):
        self.declare(Fact(tax_rate=0.1))

    @Rule(AND(Income(value=P(lambda x: 50000 < x <= 100000)),
              ChildcareExpenses(value=P(lambda x: x <= 8000)),
              UnionExpenses(value=P(lambda x: x <= 1500)),
              RRSPContributions(value=P(lambda x: x <= 12000)),
              PensionAdjustment(value=P(lambda x: x <= 8000))))
    def medium_income_tax(self):
        self.declare(Fact(tax_rate=0.15))

    @Rule(AND(Income(value=P(lambda x: x > 100000)),
              ChildcareExpenses(value=P(lambda x: x <= 10000)),
              UnionExpenses(value=P(lambda x: x <= 2000)),
              RRSPContributions(value=P(lambda x: x <= 15000)),
              PensionAdjustment(value=P(lambda x: x <= 10000))))
    def high_income_tax(self):
        self.declare(Fact(tax_rate=0.2))

# Example usage
if __name__ == '__main__':
    engine = TaxEngine()

    # Set user inputs
    engine.reset()
    engine.declare(Income(value=80000))
    engine.declare(ChildcareExpenses(value=6000))
    engine.declare(UnionExpenses(value=1200))
    engine.declare(RRSPContributions(value=10000))
    engine.declare(PensionAdjustment(value=4000))

    # Execute the rule engine
    engine.run()

    # Get the result
    result = engine.facts[-1]
    print(f'Tax Rate: {result["tax_rate"]}')
